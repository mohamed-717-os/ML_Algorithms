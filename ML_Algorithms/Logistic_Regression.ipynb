{
 "cells": [
  {
   "cell_type": "markdown",
   "id": "838b78f6",
   "metadata": {},
   "source": [
    "## Content\n",
    "\n",
    "- [Logistic Regression with sklearn](#logistic-regression-with-sklearn)\n",
    "- [Logistic Regression from scratch](#logistic-regression-from-scratch)\n",
    "- [Model Score](#model-score)\n"
   ]
  },
  {
   "cell_type": "code",
   "execution_count": 78,
   "id": "9bb54c99",
   "metadata": {},
   "outputs": [],
   "source": [
    "import numpy as np\n",
    "import matplotlib.pyplot as plt\n",
    "from sklearn.datasets import make_classification\n",
    "from sklearn.linear_model import LogisticRegression\n",
    "from sklearn.model_selection import train_test_split\n",
    "import math"
   ]
  },
  {
   "cell_type": "code",
   "execution_count": 107,
   "id": "4b51420f",
   "metadata": {},
   "outputs": [],
   "source": [
    "X, y = make_classification(n_samples=100, n_features=10, class_sep=1, random_state=42)\n",
    "X_train, X_test, y_train, y_test = train_test_split(X, y, test_size=0.33, random_state=42)"
   ]
  },
  {
   "cell_type": "markdown",
   "id": "57e829ee",
   "metadata": {},
   "source": [
    "<a name=\"logistic-regression-with-sklearn\"></a>\n",
    "### Logistic Regression with sklearn"
   ]
  },
  {
   "cell_type": "code",
   "execution_count": 108,
   "id": "811a58a3",
   "metadata": {},
   "outputs": [
    {
     "data": {
      "text/plain": [
       "0.9393939393939394"
      ]
     },
     "execution_count": 108,
     "metadata": {},
     "output_type": "execute_result"
    }
   ],
   "source": [
    "sk_model = LogisticRegression()\n",
    "sk_model.fit(X_train, y_train)\n",
    "\n",
    "sk_model.score(X_test, y_test)"
   ]
  },
  {
   "cell_type": "markdown",
   "id": "541995fd",
   "metadata": {},
   "source": [
    "<a name=\"logistic-regression-from-scratch\"></a>\n",
    "### Logistic Regrission from scratch"
   ]
  },
  {
   "cell_type": "code",
   "execution_count": 120,
   "id": "63e4423e",
   "metadata": {},
   "outputs": [],
   "source": [
    "class Logistic_Regression:\n",
    "    def __init__(self, x, y, alpha=0.01, max_iters=100000):\n",
    "        self.x = x\n",
    "        self.y = y\n",
    "        self.alpha = alpha\n",
    "        self.max_iters = max_iters\n",
    "\n",
    "        self.w = np.zeros(x.shape[1])\n",
    "        self.b = 0\n",
    "        self.actual_iters = 0\n",
    "\n",
    "        self.gradient()\n",
    "\n",
    "    # -------------------------------\n",
    "    def activation(self, x):\n",
    "        ''' \n",
    "        Calculating the activation function \n",
    "        # we will apply the function on the x_test, not just (x_train) or (self.x)\n",
    "        \n",
    "        Args:\n",
    "            x: array with shape (m,n) \n",
    "\n",
    "        Returns:\n",
    "            f: array with shape (m,)\n",
    "        '''\n",
    "        \n",
    "        z = np.dot(x, self.w) + self.b\n",
    "        f = 1 / (1 + np.exp(-z))\n",
    "        return f\n",
    "    \n",
    "    def cost(self):\n",
    "        ''' Compute the cost function using logistic cost function '''\n",
    "\n",
    "        f = self.activation(self.x)\n",
    "        loss = -self.y * np.log(f) - (1 - self.y) * np.log(1 - f) \n",
    "\n",
    "        cost = np.mean(loss)    # np.sum(loss) / x.shape[0]\n",
    "        return cost\n",
    "\n",
    "    def gradient(self):\n",
    "        ''' Compute the gradient of the cost function '''\n",
    "\n",
    "        cost_hist = []\n",
    "        prev_cost = self.cost()\n",
    "        for i in range(self.max_iters):\n",
    "\n",
    "            cost_hist.append(prev_cost)\n",
    "\n",
    "            f = self.activation(self.x)\n",
    "\n",
    "            dj_dw = (f - self.y) @ self.x\n",
    "            dj_db = np.sum(f - self.y) \n",
    "\n",
    "            self.w = self.w - self.alpha * dj_dw / self.x.shape[0]\n",
    "            self.b = self.b - self.alpha * dj_db / self.x.shape[0]\n",
    "\n",
    "            #------------------------------------------------------#\n",
    "            #       stop when reaching the stopping criterion.     #  \n",
    "            \n",
    "            current_cost = self.cost()\n",
    "            \n",
    "            if prev_cost - current_cost <= 1e-6:\n",
    "                break\n",
    "            else:\n",
    "                prev_cost = current_cost\n",
    "\n",
    "            self.actual_iters = len(cost_hist)\n",
    "\n",
    "\n",
    "    def predict(self, x):\n",
    "        '''\n",
    "        Predict the output of the model\n",
    "\n",
    "        Args:\n",
    "            x: array with shape (m,n)\n",
    "\n",
    "        Returns:\n",
    "            y_pred: array with shape (m,)\n",
    "        '''\n",
    "        y_pred = self.activation(x) > 0.5\n",
    "\n",
    "        return y_pred.astype(int)\n",
    "\n",
    "    def score(self, y_pred, y_true):\n",
    "        ''' Compute the accuracy of the model '''\n",
    "\n",
    "        accuracy = np.mean(y_pred == y_true)\n",
    "        return accuracy\n"
   ]
  },
  {
   "cell_type": "markdown",
   "id": "7a64f730",
   "metadata": {},
   "source": [
    "<a name=\"model-score\"></a>\n",
    "### Model Score"
   ]
  },
  {
   "cell_type": "code",
   "execution_count": 121,
   "id": "711ab9ff",
   "metadata": {},
   "outputs": [
    {
     "data": {
      "text/plain": [
       "0.9393939393939394"
      ]
     },
     "execution_count": 121,
     "metadata": {},
     "output_type": "execute_result"
    }
   ],
   "source": [
    "my_model = Logistic_Regression(X_train, y_train)\n",
    "yp = my_model.predict(X_test)\n",
    "my_model.score(yp, y_test)"
   ]
  },
  {
   "cell_type": "code",
   "execution_count": null,
   "id": "4b9a85ae",
   "metadata": {},
   "outputs": [],
   "source": []
  }
 ],
 "metadata": {
  "kernelspec": {
   "display_name": "base",
   "language": "python",
   "name": "python3"
  },
  "language_info": {
   "codemirror_mode": {
    "name": "ipython",
    "version": 3
   },
   "file_extension": ".py",
   "mimetype": "text/x-python",
   "name": "python",
   "nbconvert_exporter": "python",
   "pygments_lexer": "ipython3",
   "version": "3.10.9"
  }
 },
 "nbformat": 4,
 "nbformat_minor": 5
}
